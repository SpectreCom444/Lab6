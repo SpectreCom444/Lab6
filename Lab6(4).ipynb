{
 "cells": [
  {
   "cell_type": "markdown",
   "metadata": {
    "id": "0z3KlfKDn4_K"
   },
   "source": [
    "# Лабораторная работа 6. \n",
    "# Сетевые алгоритмы. Динамические алгоритмы поиска путей.\n"
   ]
  },
  {
   "cell_type": "markdown",
   "metadata": {
    "id": "96Gi_LEvmSVH"
   },
   "source": [
    "## Выполнил студент Стеклов М. А. БФИ2001\n",
    "***"
   ]
  },
  {
   "cell_type": "markdown",
   "metadata": {
    "id": "GjdIp8aToKIe"
   },
   "source": [
    "### Задание\n",
    "\n",
    "1.  Реализовать алгоритм поиска кратчайшего расстояния между двумя вершинами ориентированного взвешенного графа в соответствии с вариантом. \n",
    "\n",
    "2.  Предусмотреть задание графа в виде матрицы смежности/инцидентности, читаемой из файла, либо графически с помощью пользовательского интерфейса. \n",
    "\n",
    "3.  Разработать графический интерфейс пользователя с визуализацией графа и отображением кратчайшего расстояния между задаваемыми пользователем вершинами.\n",
    "\n",
    "4. По результатам работы проанализировать временную сложность работы заданного алгоритма в зависимости от числа узлов и ребер графа.\n",
    "Данные представить в виде таблицы.\n",
    "\n"
   ]
  },
  {
   "cell_type": "markdown",
   "metadata": {
    "id": "LhhUXrAmotIA"
   },
   "source": [
    "### Алгоритмы:\n",
    "\n",
    "Алгоритм Флойда-Уоршелла| Алгоритм Дейкстры | Алгоритм Беллмана-Форда | Алгоритм Джонсона| Алгоритм Левита | Алгоритм Йена\n",
    "\n"
   ]
  },
  {
   "cell_type": "markdown",
   "metadata": {
    "id": "Wggfn8l7nG72"
   },
   "source": [
    "### Выполнение:"
   ]
  },
  {
   "cell_type": "code",
   "execution_count": 246,
   "metadata": {},
   "outputs": [],
   "source": [
    "from typing import Any\n",
    "from pyvis.network import Network\n",
    "import networkx as nx\n",
    "import numpy as np"
   ]
  },
  {
   "cell_type": "code",
   "execution_count": 332,
   "metadata": {},
   "outputs": [],
   "source": [
    "def file2graph(filename=\"lab6_io_files/lab6_input.txt\") -> nx.DiGraph:\n",
    "    !cat {filename}\n",
    "    res = []\n",
    "    with open(filename, 'r') as f:\n",
    "        for line in f:\n",
    "            res.append(list(map(float, line.strip().split())))\n",
    "    return nx.from_numpy_matrix(np.array(res), create_using=nx.DiGraph)"
   ]
  },
  {
   "cell_type": "code",
   "execution_count": 419,
   "metadata": {},
   "outputs": [],
   "source": [
    "import copy\n",
    "def johnson(graph: nx.DiGraph, start_node, finish_node) -> list[Any]:\n",
    "    graph = copy.deepcopy(graph)\n",
    "    if all(edge_data[2][\"weight\"] >= 0 for edge_data in graph.edges(data=True)):\n",
    "        return nx.dijkstra_path(graph, start_node, finish_node)\n",
    "    graph.add_node('S')\n",
    "    for node in graph.nodes:\n",
    "        if node == 'S':\n",
    "            continue\n",
    "        graph.add_edge('S', node, weight=0)\n",
    "    _, h = nx.bellman_ford_predecessor_and_distance(graph, 'S')\n",
    "    graph.remove_node('S')\n",
    "    for edge_data in graph.edges(data=True):\n",
    "        edge_data[2]['weight'] += h[edge_data[0]] - h[edge_data[1]]\n",
    "    return nx.dijkstra_path(graph, start_node, finish_node)\n",
    "\n"
   ]
  },
  {
   "cell_type": "code",
   "execution_count": 420,
   "metadata": {},
   "outputs": [],
   "source": [
    "from random import randint, choice, shuffle\n",
    "\n",
    "def gen_graph(n: int, a: int=10, b: int=50, neg_a: int=-9, neg_b: int=-1, neg_count: int=5):\n",
    "    g = nx.dorogovtsev_goltsev_mendes_graph(n).to_directed()\n",
    "    for edge_data in g.edges(data=True):\n",
    "        edge_data[2][\"weight\"] = randint(a, b)\n",
    "    edges_list = list(g.edges())\n",
    "    for i in range(neg_count):\n",
    "        u, v = choice(edges_list)\n",
    "        g[u][v][\"weight\"] = randint(neg_a, neg_b)\n",
    "    while True:\n",
    "        tmp = list(g.edges())[::]\n",
    "        shuffle(tmp)\n",
    "        flag = True\n",
    "        for u, v in tmp:\n",
    "            if (v, u) in g.edges():\n",
    "                g.remove_edge(v, u)\n",
    "                flag = False\n",
    "                break\n",
    "        if flag:\n",
    "            break \n",
    "    return g\n",
    "        \n",
    "        "
   ]
  },
  {
   "cell_type": "code",
   "execution_count": 421,
   "metadata": {},
   "outputs": [
    {
     "name": "stdout",
     "output_type": "stream",
     "text": [
      "0 1 0 0 0 1 6 0 \r\n",
      "0 0 -3 0 0 0 0 0 \r\n",
      "8 0 0 -1 0 0 0 9 \r\n",
      "0 5 0 0 0 7 0 0 \r\n",
      "5 0 1 0 0 0 0 0 \r\n",
      "0 8 4 0 0 0 0 0 \r\n",
      "0 0 4 2 -3 0 0 0 \r\n",
      "0 5 0 6 0 0 0 0 \r\n"
     ]
    }
   ],
   "source": [
    "#g = gen_graph(4)\n",
    "g = file2graph()"
   ]
  },
  {
   "cell_type": "code",
   "execution_count": 422,
   "metadata": {},
   "outputs": [
    {
     "data": {
      "text/html": [
       "\n",
       "        <iframe\n",
       "            width=\"100%\"\n",
       "            height=\"500px\"\n",
       "            src=\"nx.html\"\n",
       "            frameborder=\"0\"\n",
       "            allowfullscreen\n",
       "            \n",
       "        ></iframe>\n",
       "        "
      ],
      "text/plain": [
       "<IPython.lib.display.IFrame at 0x7f2c9489c9a0>"
      ]
     },
     "execution_count": 422,
     "metadata": {},
     "output_type": "execute_result"
    }
   ],
   "source": [
    "nt = Network(height='500px', width='100%', bgcolor='#222222', font_color='white', notebook=True, directed=True)\n",
    "nt.from_nx(g)\n",
    "\n",
    "for edge in nt.get_edges():\n",
    "    edge[\"value\"] = edge[\"weight\"]\n",
    "nt.show('nx.html')"
   ]
  },
  {
   "cell_type": "code",
   "execution_count": 423,
   "metadata": {},
   "outputs": [
    {
     "name": "stdout",
     "output_type": "stream",
     "text": [
      "Введите начальную и конечную точку пути: 0 3\n"
     ]
    }
   ],
   "source": [
    "start_node, finish_node = map(int,\n",
    "                              input(\"Введите начальную и конечную точку пути: \").split())\n",
    "path = johnson(g, start_node, finish_node)"
   ]
  },
  {
   "cell_type": "code",
   "execution_count": 424,
   "metadata": {},
   "outputs": [],
   "source": [
    "path_edges = {(path[i], path[i+1]) for i in range(len(path) - 1)}"
   ]
  },
  {
   "cell_type": "code",
   "execution_count": 425,
   "metadata": {
    "scrolled": false
   },
   "outputs": [
    {
     "data": {
      "text/html": [
       "\n",
       "        <iframe\n",
       "            width=\"100%\"\n",
       "            height=\"500px\"\n",
       "            src=\"nx.html\"\n",
       "            frameborder=\"0\"\n",
       "            allowfullscreen\n",
       "            \n",
       "        ></iframe>\n",
       "        "
      ],
      "text/plain": [
       "<IPython.lib.display.IFrame at 0x7f2c94462190>"
      ]
     },
     "execution_count": 425,
     "metadata": {},
     "output_type": "execute_result"
    }
   ],
   "source": [
    "nt = Network(height='500px', width='100%', bgcolor='#222222', font_color='white', notebook=True, directed=True)\n",
    "nt.from_nx(g)\n",
    "for edge in nt.get_edges():\n",
    "    edge[\"value\"] = edge[\"weight\"]\n",
    "    if (edge[\"from\"], edge[\"to\"]) in path_edges:\n",
    "        edge[\"color\"] = \"red\"\n",
    "nt.show('nx.html')"
   ]
  },
  {
   "cell_type": "markdown",
   "metadata": {
    "id": "diOb-K7LnO5a"
   },
   "source": [
    "### Вывод"
   ]
  },
  {
   "cell_type": "code",
   "execution_count": null,
   "metadata": {},
   "outputs": [],
   "source": []
  }
 ],
 "metadata": {
  "colab": {
   "name": "Lab6.ipynb",
   "provenance": []
  },
  "kernelspec": {
   "display_name": "Python 3 (ipykernel)",
   "language": "python",
   "name": "python3"
  },
  "language_info": {
   "codemirror_mode": {
    "name": "ipython",
    "version": 3
   },
   "file_extension": ".py",
   "mimetype": "text/x-python",
   "name": "python",
   "nbconvert_exporter": "python",
   "pygments_lexer": "ipython3",
   "version": "3.9.7"
  }
 },
 "nbformat": 4,
 "nbformat_minor": 1
}
